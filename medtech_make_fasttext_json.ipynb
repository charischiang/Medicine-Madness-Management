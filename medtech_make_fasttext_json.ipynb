{
 "cells": [
  {
   "cell_type": "code",
   "execution_count": 1,
   "metadata": {
    "scrolled": true
   },
   "outputs": [
    {
     "name": "stdout",
     "output_type": "stream",
     "text": [
      "DONE\n"
     ]
    },
    {
     "name": "stderr",
     "output_type": "stream",
     "text": [
      "Warning : `load_model` does not return WordVectorModel or SupervisedModel any more, but a `FastText` object which is very similar.\n"
     ]
    }
   ],
   "source": [
    "import fasttext.util\n",
    "#fasttext.util.download_model('en', if_exists='ignore')  # English\n",
    "print(\"DONE\")\n",
    "ft = fasttext.load_model('cc.en.300.bin')"
   ]
  },
  {
   "cell_type": "code",
   "execution_count": 2,
   "metadata": {},
   "outputs": [
    {
     "data": {
      "text/plain": [
       "array([ 1.57576188e-01,  4.37820926e-02, -4.51271934e-03,  6.65931404e-02,\n",
       "        7.70346820e-02,  4.85855248e-03,  8.19822028e-03,  6.52402919e-03,\n",
       "        9.25899856e-03,  3.53899002e-02, -2.31395271e-02, -4.91807126e-02,\n",
       "       -8.32642540e-02,  1.56014524e-02,  2.54856616e-01,  3.45423706e-02,\n",
       "       -1.07451361e-02, -7.80188590e-02, -7.08099529e-02,  7.62385577e-02,\n",
       "       -6.09613657e-02,  4.48625796e-02, -7.29744136e-02,  1.30583309e-02,\n",
       "        3.14881057e-02, -3.10055036e-02,  1.66004002e-02,  1.74405202e-02,\n",
       "       -7.35838860e-02,  1.18252613e-01, -1.21330231e-01, -4.09253240e-02,\n",
       "        2.93969568e-02,  4.84445989e-02, -1.33816330e-02, -1.74765270e-02,\n",
       "        7.51308873e-02,  9.97046307e-02, -4.00476977e-02,  4.05735290e-03,\n",
       "       -7.21896589e-02, -4.43356819e-02, -1.22628408e-03,  7.56693557e-02,\n",
       "        3.98401320e-02,  3.22643593e-02,  1.95914153e-02,  4.68016043e-02,\n",
       "       -1.46228177e-02,  1.12967767e-01,  3.15065160e-02, -1.02312110e-01,\n",
       "        1.58124104e-01, -2.76147053e-02, -3.39851156e-02, -1.77006852e-02,\n",
       "       -5.73529862e-04,  1.10789239e-01, -1.64533369e-02, -3.14955460e-03,\n",
       "       -4.22914140e-02,  1.11429848e-01, -5.31049855e-02,  4.91117276e-02,\n",
       "        9.10004079e-02,  6.57141507e-02, -3.71061601e-02,  3.81702930e-02,\n",
       "        7.25173131e-02, -5.31874336e-02,  3.06243524e-02, -5.77391349e-02,\n",
       "       -8.07492957e-02, -9.05582383e-02, -8.05390999e-02, -6.03040010e-02,\n",
       "       -9.73476470e-02,  4.83466834e-02,  6.79628998e-02, -2.63391621e-03,\n",
       "       -8.63242708e-03, -5.09856315e-03,  3.15496624e-02,  6.66525513e-02,\n",
       "        3.12875141e-04, -8.35073516e-02,  4.45498899e-02,  3.60494666e-02,\n",
       "       -2.06746310e-02, -6.20845817e-02, -9.07698199e-02, -4.88502011e-02,\n",
       "        1.32845968e-01,  1.26201622e-02,  4.61448133e-02, -5.53582981e-02,\n",
       "        2.26286706e-03,  4.92154472e-02,  3.35916355e-02,  6.64286166e-02,\n",
       "       -8.92760456e-02, -5.37227653e-02,  1.32202283e-01, -9.05150920e-03,\n",
       "        3.26110516e-03, -4.37462777e-02,  7.51723945e-02, -4.36847992e-02,\n",
       "       -3.93423960e-02,  4.89794314e-02,  8.05674866e-02, -3.93629894e-02,\n",
       "       -7.60222226e-02,  7.16625601e-02, -1.88665651e-02, -4.20744009e-02,\n",
       "        3.32255103e-03, -2.13907361e-02, -1.30127341e-01,  1.37401130e-02,\n",
       "       -5.14834598e-02,  3.86724435e-02,  4.92810011e-02, -6.17840439e-02,\n",
       "       -3.39861885e-02,  3.51758078e-02,  2.59123407e-02, -1.02832042e-01,\n",
       "        6.01336509e-02, -7.14224055e-02, -2.23655030e-02, -1.03390224e-01,\n",
       "       -6.34965971e-02,  1.22897769e-03, -8.42045806e-03, -7.10138381e-02,\n",
       "       -1.38788186e-02,  9.29828510e-02, -7.62190223e-02, -1.79991737e-01,\n",
       "        4.98081669e-02,  5.59808277e-02,  4.36702892e-02,  1.68789774e-02,\n",
       "       -3.51566449e-02,  5.45868883e-03, -1.51729390e-01,  8.31367448e-03,\n",
       "        1.33901536e-01,  1.18388735e-01, -2.54749060e-02, -5.89675866e-02,\n",
       "       -1.15508147e-01, -9.11533982e-02, -3.26217338e-02,  9.58938058e-03,\n",
       "        7.08419904e-02, -1.19613513e-01, -2.44825650e-02,  4.67297807e-02,\n",
       "       -1.05831511e-01,  8.39347020e-03, -3.59367356e-02, -7.11603984e-02,\n",
       "        1.49144500e-01, -9.40826610e-02,  3.87760401e-02,  4.80452590e-02,\n",
       "        2.00118758e-02,  5.70331514e-02, -5.09383976e-02, -1.54985264e-02,\n",
       "       -3.21162455e-02,  6.39992654e-02,  4.45546657e-02, -5.41638955e-02,\n",
       "        2.38869134e-02,  3.99200059e-02,  4.95060384e-02, -8.13021213e-02,\n",
       "        8.67957771e-02,  2.78793890e-02,  2.23497916e-02,  6.88121617e-02,\n",
       "        5.80286458e-02,  1.24275330e-02,  9.18484554e-02,  1.70225650e-02,\n",
       "       -2.20671259e-02, -5.54737449e-02,  3.15260515e-03, -8.95306170e-02,\n",
       "       -5.89935109e-04, -4.80783619e-02, -4.11259457e-02, -3.47180255e-02,\n",
       "       -4.23192009e-02,  1.01052016e-01,  4.34643961e-02,  6.75219819e-02,\n",
       "       -7.32917935e-02,  2.32507251e-02,  3.76763381e-02,  9.02093761e-03,\n",
       "       -8.25045630e-02, -9.67509300e-02,  5.91404364e-03,  2.62256898e-02,\n",
       "       -2.22521871e-02,  7.38612264e-02, -1.88500714e-03, -9.77522582e-02,\n",
       "       -5.37980236e-02, -4.76639681e-02, -1.30426334e-02,  8.38671811e-04,\n",
       "        2.90181581e-02, -3.12499143e-03, -9.28533375e-02,  6.73858598e-02,\n",
       "       -1.85458809e-01,  4.01153788e-02, -5.62882163e-02,  6.18898645e-02,\n",
       "        8.93600285e-02, -6.91142231e-02, -3.22221480e-02, -1.35385573e-01,\n",
       "       -7.45606720e-02,  1.01488158e-01, -2.72288243e-03,  6.07009046e-02,\n",
       "        2.42582299e-02, -1.51890054e-01, -2.93815900e-02, -4.21775132e-03,\n",
       "        5.16449586e-02,  1.85986951e-01, -2.56413780e-02,  8.12229067e-02,\n",
       "        3.16283293e-03, -3.35572846e-02,  3.90090160e-02, -7.37856179e-02,\n",
       "        1.14605539e-01, -7.38329254e-05, -3.69094908e-02,  9.31020677e-02,\n",
       "       -2.92852186e-02,  5.21238521e-02,  7.99705926e-03, -2.93293986e-02,\n",
       "        1.31182939e-01, -8.32130760e-02, -3.40401530e-02,  1.21310152e-01,\n",
       "        3.51337232e-02,  4.17837035e-03,  5.03289811e-02,  2.06086487e-02,\n",
       "        7.90461749e-02, -4.95089963e-02,  2.54211240e-02, -2.95754354e-02,\n",
       "       -2.65460461e-02,  5.42523079e-02, -5.52508160e-02,  1.06864944e-02,\n",
       "       -3.00089158e-02, -6.05286062e-02,  8.54329094e-02, -6.65596053e-02,\n",
       "       -6.78129196e-02,  3.51911336e-02,  6.19770139e-02,  4.80552204e-02,\n",
       "       -3.45021002e-02, -2.87248623e-02, -5.90536669e-02, -5.05724642e-03,\n",
       "       -9.74042267e-02,  1.88945048e-03, -9.06497836e-02,  1.47764226e-02,\n",
       "       -9.77678970e-02,  3.95894758e-02,  2.82567330e-02, -9.28364843e-02,\n",
       "       -8.16594157e-03, -4.56805378e-02,  1.12314738e-01,  8.59746262e-02,\n",
       "       -1.47517517e-01,  8.33301097e-02,  9.94666740e-02, -3.67202386e-02,\n",
       "        6.84743300e-02,  8.06697235e-02, -4.50269580e-02, -3.11294980e-02],\n",
       "      dtype=float32)"
      ]
     },
     "execution_count": 2,
     "metadata": {},
     "output_type": "execute_result"
    }
   ],
   "source": [
    "ft.get_word_vector(\"hello\")"
   ]
  },
  {
   "cell_type": "code",
   "execution_count": 3,
   "metadata": {},
   "outputs": [
    {
     "data": {
      "text/html": [
       "<div>\n",
       "<style scoped>\n",
       "    .dataframe tbody tr th:only-of-type {\n",
       "        vertical-align: middle;\n",
       "    }\n",
       "\n",
       "    .dataframe tbody tr th {\n",
       "        vertical-align: top;\n",
       "    }\n",
       "\n",
       "    .dataframe thead th {\n",
       "        text-align: right;\n",
       "    }\n",
       "</style>\n",
       "<table border=\"1\" class=\"dataframe\">\n",
       "  <thead>\n",
       "    <tr style=\"text-align: right;\">\n",
       "      <th></th>\n",
       "      <th>0</th>\n",
       "    </tr>\n",
       "  </thead>\n",
       "  <tbody>\n",
       "    <tr>\n",
       "      <th>0</th>\n",
       "      <td>Omeprazole_Cap E/C 10mg</td>\n",
       "    </tr>\n",
       "    <tr>\n",
       "      <th>1</th>\n",
       "      <td>Dressit Ster Dress Pack</td>\n",
       "    </tr>\n",
       "    <tr>\n",
       "      <th>2</th>\n",
       "      <td>Flaminal Forte 15g Tube Wound Dress Prot</td>\n",
       "    </tr>\n",
       "    <tr>\n",
       "      <th>3</th>\n",
       "      <td>Co-Magaldrox_Susp 195mg/220mg/5ml S/F</td>\n",
       "    </tr>\n",
       "    <tr>\n",
       "      <th>4</th>\n",
       "      <td>Antacid/Oxetacaine_Oral Susp S/F</td>\n",
       "    </tr>\n",
       "    <tr>\n",
       "      <th>...</th>\n",
       "      <td>...</td>\n",
       "    </tr>\n",
       "    <tr>\n",
       "      <th>23580</th>\n",
       "      <td>Vicks_Sinex Nsl Spy</td>\n",
       "    </tr>\n",
       "    <tr>\n",
       "      <th>23581</th>\n",
       "      <td>Uvistat_L/Last Crm Spf 25</td>\n",
       "    </tr>\n",
       "    <tr>\n",
       "      <th>23582</th>\n",
       "      <td>Coloplast_Assura Insp Maxi Closed Bag De</td>\n",
       "    </tr>\n",
       "    <tr>\n",
       "      <th>23583</th>\n",
       "      <td>Slow-Fe_Tab</td>\n",
       "    </tr>\n",
       "    <tr>\n",
       "      <th>23584</th>\n",
       "      <td>Sure-Amp_Bupivac HCl Inj 0.75% 10ml Amp</td>\n",
       "    </tr>\n",
       "  </tbody>\n",
       "</table>\n",
       "<p>23585 rows × 1 columns</p>\n",
       "</div>"
      ],
      "text/plain": [
       "                                              0\n",
       "0                       Omeprazole_Cap E/C 10mg\n",
       "1                       Dressit Ster Dress Pack\n",
       "2      Flaminal Forte 15g Tube Wound Dress Prot\n",
       "3         Co-Magaldrox_Susp 195mg/220mg/5ml S/F\n",
       "4              Antacid/Oxetacaine_Oral Susp S/F\n",
       "...                                         ...\n",
       "23580                       Vicks_Sinex Nsl Spy\n",
       "23581                 Uvistat_L/Last Crm Spf 25\n",
       "23582  Coloplast_Assura Insp Maxi Closed Bag De\n",
       "23583                               Slow-Fe_Tab\n",
       "23584   Sure-Amp_Bupivac HCl Inj 0.75% 10ml Amp\n",
       "\n",
       "[23585 rows x 1 columns]"
      ]
     },
     "execution_count": 3,
     "metadata": {},
     "output_type": "execute_result"
    }
   ],
   "source": [
    "import pandas as pd\n",
    "df=pd.read_csv(\"drugs.csv\",header=None)\n",
    "df"
   ]
  },
  {
   "cell_type": "code",
   "execution_count": 4,
   "metadata": {},
   "outputs": [
    {
     "data": {
      "text/plain": [
       "0                         Omeprazole_Cap E/C 10mg\n",
       "1                         Dressit Ster Dress Pack\n",
       "2        Flaminal Forte 15g Tube Wound Dress Prot\n",
       "3           Co-Magaldrox_Susp 195mg/220mg/5ml S/F\n",
       "4                Antacid/Oxetacaine_Oral Susp S/F\n",
       "                           ...                   \n",
       "23580                         Vicks_Sinex Nsl Spy\n",
       "23581                   Uvistat_L/Last Crm Spf 25\n",
       "23582    Coloplast_Assura Insp Maxi Closed Bag De\n",
       "23583                                 Slow-Fe_Tab\n",
       "23584     Sure-Amp_Bupivac HCl Inj 0.75% 10ml Amp\n",
       "Name: 0, Length: 23585, dtype: object"
      ]
     },
     "execution_count": 4,
     "metadata": {},
     "output_type": "execute_result"
    }
   ],
   "source": [
    "df2=df.iloc[:,0]\n",
    "df2"
   ]
  },
  {
   "cell_type": "code",
   "execution_count": 5,
   "metadata": {},
   "outputs": [],
   "source": [
    "medicine_dict={}\n",
    "for i in df2:\n",
    "    medicine_dict[i]=[str(num) for num in ft.get_word_vector(i.lower())]"
   ]
  },
  {
   "cell_type": "code",
   "execution_count": 6,
   "metadata": {},
   "outputs": [],
   "source": [
    "import json\n",
    "\n",
    "with open('medicine_dict.json', 'w') as fp:\n",
    "    json.dump(medicine_dict, fp)"
   ]
  }
 ],
 "metadata": {
  "kernelspec": {
   "display_name": "Python 3",
   "language": "python",
   "name": "python3"
  },
  "language_info": {
   "codemirror_mode": {
    "name": "ipython",
    "version": 3
   },
   "file_extension": ".py",
   "mimetype": "text/x-python",
   "name": "python",
   "nbconvert_exporter": "python",
   "pygments_lexer": "ipython3",
   "version": "3.8.3"
  }
 },
 "nbformat": 4,
 "nbformat_minor": 4
}
