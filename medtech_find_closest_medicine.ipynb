{
 "cells": [
  {
   "cell_type": "code",
   "execution_count": 1,
   "metadata": {
    "scrolled": false
   },
   "outputs": [
    {
     "name": "stdout",
     "output_type": "stream",
     "text": [
      "take 1 tablet(s) every morning\n",
      "['2020 FR pees away PAM', 'loRATAdine 10MG TAB', 'TAKE 1 TABLET(S) EVERY MORNING', 'May be taken with or without food. May affect alertness. Warning - avoid', 'alecholic drinks', 'TOA PAYOH POLYCLINIC PHARMACY 821 1', ' ', '\\x0c']\n"
     ]
    }
   ],
   "source": [
    "try:\n",
    "    from PIL import Image\n",
    "except ImportError:\n",
    "    import Image\n",
    "    \n",
    "import pytesseract\n",
    "pytesseract.pytesseract.tesseract_cmd=r\"C:\\Program Files\\Tesseract-OCR\\tesseract.exe\"\n",
    "import numpy as np\n",
    "\n",
    "def ocr_core(filename,mode=3):\n",
    "    text = pytesseract.image_to_string(Image.open(filename),config=f'--psm {mode}')\n",
    "    return text\n",
    "\n",
    "def fetch_instruction(text):\n",
    "    for i in text.split('\\n'):\n",
    "        if \"take\" in i.lower():\n",
    "            return i.split(\".\")[0].lower()\n",
    "    return \"\"\n",
    "def count_digits_percent(string):\n",
    "    if not string:\n",
    "        return 1\n",
    "    return sum([char in \"0123456789\" for char in string])/len(string)\n",
    "image_file='static/uploads/med_label1.jpg'\n",
    "print(fetch_instruction(ocr_core(image_file)))\n",
    "test_sentence=ocr_core(image_file,3).split('\\n')\n",
    "sentences=[]\n",
    "for i in test_sentence:\n",
    "    if count_digits_percent(i)<0.3:\n",
    "        sentences.append(i)        \n",
    "print(sentences)"
   ]
  },
  {
   "cell_type": "code",
   "execution_count": 2,
   "metadata": {},
   "outputs": [],
   "source": [
    "import json\n",
    "\n",
    "with open('medicine_dict.json') as f:\n",
    "    medicine_dict = json.load(f)"
   ]
  },
  {
   "cell_type": "code",
   "execution_count": 3,
   "metadata": {},
   "outputs": [],
   "source": [
    "from scipy import spatial\n",
    "def similarity(vector1,vector2):\n",
    "    vector1=np.asarray(vector1, dtype='float64')\n",
    "    vector2=np.asarray(vector2, dtype='float64')\n",
    "    return 1 - spatial.distance.cosine(vector1, vector2)\n",
    "def alphabet_vec(string):\n",
    "    string=string.lower()\n",
    "    vector=[]\n",
    "    count_dict={}\n",
    "    for i in string:\n",
    "        if not count_dict.get(i,False):\n",
    "            count_dict[i]=1\n",
    "        else:\n",
    "            count_dict[i]+=1\n",
    "    for i in \"abcdefghijklmnopqrstuvwxyz\":\n",
    "        vector.append(count_dict.get(i,0))\n",
    "    return vector"
   ]
  },
  {
   "cell_type": "code",
   "execution_count": 4,
   "metadata": {
    "scrolled": true
   },
   "outputs": [
    {
     "name": "stdout",
     "output_type": "stream",
     "text": [
      "DONE\n"
     ]
    },
    {
     "name": "stderr",
     "output_type": "stream",
     "text": [
      "Warning : `load_model` does not return WordVectorModel or SupervisedModel any more, but a `FastText` object which is very similar.\n"
     ]
    }
   ],
   "source": [
    "import fasttext.util\n",
    "#fasttext.util.download_model('en', if_exists='ignore')  # English\n",
    "print(\"DONE\")\n",
    "ft = fasttext.load_model('cc.en.300.bin')"
   ]
  },
  {
   "cell_type": "code",
   "execution_count": 5,
   "metadata": {},
   "outputs": [
    {
     "name": "stderr",
     "output_type": "stream",
     "text": [
      "C:\\Users\\nuinui\\anaconda3\\lib\\site-packages\\scipy\\spatial\\distance.py:714: RuntimeWarning: invalid value encountered in double_scalars\n",
      "  dist = 1.0 - uv / np.sqrt(uu * vv)\n"
     ]
    }
   ],
   "source": [
    "max_similarity=-1\n",
    "for i in sentences:\n",
    "    curr_vector=ft.get_word_vector(i.lower())\n",
    "    curr_alpha_vector=alphabet_vec(i)\n",
    "    for j in medicine_dict:\n",
    "        medicine_vector=medicine_dict[j]\n",
    "        medicine_alpha_vector=alphabet_vec(j)\n",
    "        curr_similarity=similarity(curr_vector,medicine_vector)+similarity(curr_alpha_vector,medicine_alpha_vector)\n",
    "        if curr_similarity>max_similarity:\n",
    "            max_similarity=curr_similarity\n",
    "            best_match=(i,j)"
   ]
  },
  {
   "cell_type": "code",
   "execution_count": 6,
   "metadata": {},
   "outputs": [
    {
     "data": {
      "text/plain": [
       "('loRATAdine 10MG TAB', 'Loratadine_Oral Lyophilisate Tab10mg S/F')"
      ]
     },
     "execution_count": 6,
     "metadata": {},
     "output_type": "execute_result"
    }
   ],
   "source": [
    "best_match"
   ]
  }
 ],
 "metadata": {
  "kernelspec": {
   "display_name": "Python 3",
   "language": "python",
   "name": "python3"
  },
  "language_info": {
   "codemirror_mode": {
    "name": "ipython",
    "version": 3
   },
   "file_extension": ".py",
   "mimetype": "text/x-python",
   "name": "python",
   "nbconvert_exporter": "python",
   "pygments_lexer": "ipython3",
   "version": "3.8.3"
  }
 },
 "nbformat": 4,
 "nbformat_minor": 4
}
